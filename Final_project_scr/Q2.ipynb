{
 "cells": [
  {
   "cell_type": "markdown",
   "metadata": {},
   "source": [
    "# Question2"
   ]
  },
  {
   "cell_type": "code",
   "execution_count": null,
   "metadata": {},
   "outputs": [],
   "source": [
    "import matplotlib.pyplot as plt\n",
    "import numpy as np"
   ]
  },
  {
   "cell_type": "code",
   "execution_count": null,
   "metadata": {},
   "outputs": [],
   "source": [
    "x1 = np.linspace(0,10,1000)\n",
    "x2 = np.linspace(0,5,1000)\n",
    "x3 = np.linspace(0,3,1000)"
   ]
  },
  {
   "cell_type": "markdown",
   "metadata": {},
   "source": [
    "lognormal distribution"
   ]
  },
  {
   "cell_type": "code",
   "execution_count": null,
   "metadata": {},
   "outputs": [],
   "source": [
    "def lognormal(mu,sig):\n",
    "    return  (1 / (x1 * sig * ((2 * np.pi) ** 0.5))) * np.exp(-(((np.log(x1) - mu) ** 2) / (2 * (sig ** 2))))"
   ]
  },
  {
   "cell_type": "markdown",
   "metadata": {},
   "source": [
    "weibull distribution"
   ]
  },
  {
   "cell_type": "code",
   "execution_count": null,
   "metadata": {},
   "outputs": [],
   "source": [
    "def weibull(c,b):\n",
    "    return (c * (x2 ** (c - 1))) / ((b ** c) * np.exp((x2 / b) ** c))"
   ]
  },
  {
   "cell_type": "markdown",
   "metadata": {},
   "source": [
    "wald distribution"
   ]
  },
  {
   "cell_type": "code",
   "execution_count": null,
   "metadata": {},
   "outputs": [],
   "source": [
    "def wald(eta,lam):\n",
    "    return (((lam) / (2 * np.pi * (x3 ** 3))) ** 0.5) * np.exp((-lam) * (((x3 - eta) ** 2)) / (2 * (eta ** 2) * x3))"
   ]
  },
  {
   "cell_type": "markdown",
   "metadata": {},
   "source": [
    "plot lognormal distribution"
   ]
  },
  {
   "cell_type": "code",
   "execution_count": null,
   "metadata": {},
   "outputs": [],
   "source": [
    "Log11 = lognormal(0,0.25)\n",
    "Log12 = lognormal(0,0.5)\n",
    "Log13 = lognormal(0,1)\n",
    "Log14 = lognormal(0,2)\n",
    "\n",
    "Log21 = lognormal(0,0.5)\n",
    "Log22 = lognormal(0.5,0.5)\n",
    "Log23 = lognormal(1,0.5)\n",
    "Log24 = lognormal(2,0.5)"
   ]
  },
  {
   "cell_type": "code",
   "execution_count": null,
   "metadata": {},
   "outputs": [],
   "source": [
    "plt.figure(1)\n",
    "plt.plot(x1,Log11,label=r'$\\sigma$ = 0.25')\n",
    "plt.plot(x1,Log12,label=r'$\\sigma$ = 0.5')\n",
    "plt.plot(x1,Log13,label=r'$\\sigma$ = 1')\n",
    "plt.plot(x1,Log14,label=r'$\\sigma$ = 2')\n",
    "plt.title('lognormal distribution (mu=0)')\n",
    "plt.xlabel('x')\n",
    "plt.ylabel('lognormal(x) density')\n",
    "plt.legend()\n",
    "plt.show()"
   ]
  },
  {
   "cell_type": "code",
   "execution_count": null,
   "metadata": {},
   "outputs": [],
   "source": [
    "plt.figure(2)\n",
    "plt.plot(x1,Log21,label=r'$\\mu$ = 0')\n",
    "plt.plot(x1,Log22,label=r'$\\mu$ = 0.5')\n",
    "plt.plot(x1,Log23,label=r'$\\mu$ = 1')\n",
    "plt.plot(x1,Log24,label=r'$\\mu$ = 2')\n",
    "plt.title('lognormal distribution (sigma=0.5)')\n",
    "plt.xlabel('x')\n",
    "plt.ylabel('lognormal(x) density')\n",
    "plt.legend()\n",
    "plt.show()"
   ]
  },
  {
   "cell_type": "markdown",
   "metadata": {},
   "source": [
    "plot weibull distribution"
   ]
  },
  {
   "cell_type": "code",
   "execution_count": null,
   "metadata": {},
   "outputs": [],
   "source": [
    "Wei11 = weibull(0.5,1)\n",
    "Wei12 = weibull(1,1)\n",
    "Wei13 = weibull(1.5,1)\n",
    "Wei14 = weibull(5,1)\n",
    "\n",
    "Wei21 = weibull(2,0.25)\n",
    "Wei22 = weibull(2,0.5)\n",
    "Wei23 = weibull(2,1)\n",
    "Wei24 = weibull(2,5)"
   ]
  },
  {
   "cell_type": "code",
   "execution_count": null,
   "metadata": {},
   "outputs": [],
   "source": [
    "plt.figure(3)\n",
    "plt.plot(x2,Wei11,label=r'c = 0.5')\n",
    "plt.plot(x2,Wei12,label=r'c = 1')\n",
    "plt.plot(x2,Wei13,label=r'c = 1.5')\n",
    "plt.plot(x2,Wei14,label=r'c = 5')\n",
    "plt.title('weibull distribution (b=1)')\n",
    "plt.xlabel('x')\n",
    "plt.ylabel('weibull(x) density')\n",
    "plt.legend()\n",
    "plt.show()"
   ]
  },
  {
   "cell_type": "code",
   "execution_count": null,
   "metadata": {},
   "outputs": [],
   "source": [
    "plt.figure(4)\n",
    "plt.plot(x2,Wei21,label=r'b = 0.25')\n",
    "plt.plot(x2,Wei22,label=r'b = 0.5')\n",
    "plt.plot(x2,Wei23,label=r'b = 1')\n",
    "plt.plot(x2,Wei24,label=r'b = 5')\n",
    "plt.title('weibull distribution (c=2)')\n",
    "plt.xlabel('x')\n",
    "plt.ylabel('weibull(x) density')\n",
    "plt.legend()\n",
    "plt.show()"
   ]
  },
  {
   "cell_type": "markdown",
   "metadata": {},
   "source": [
    "plot wald distribution"
   ]
  },
  {
   "cell_type": "code",
   "execution_count": null,
   "metadata": {},
   "outputs": [],
   "source": [
    "Wal11 = wald(0.25,1)\n",
    "Wal12 = wald(0.5,1)\n",
    "Wal13 = wald(1,1)\n",
    "Wal14 = wald(2,1)\n",
    "\n",
    "Wal21 = wald(5,0.25)\n",
    "Wal22 = wald(5,0.5)\n",
    "Wal23 = wald(5,1)\n",
    "Wal24 = wald(5,5)"
   ]
  },
  {
   "cell_type": "code",
   "execution_count": null,
   "metadata": {},
   "outputs": [],
   "source": [
    "plt.figure(5)\n",
    "plt.plot(x3,Wal11,label=r'$\\eta$ = 0.25')\n",
    "plt.plot(x3,Wal12,label=r'$\\eta$ = 0.5')\n",
    "plt.plot(x3,Wal13,label=r'$\\eta$ = 1')\n",
    "plt.plot(x3,Wal14,label=r'$\\eta$ = 2')\n",
    "plt.title('wald distribution (lambda=1)')\n",
    "plt.xlabel('x')\n",
    "plt.ylabel('wald(x) density')\n",
    "plt.legend()\n",
    "plt.show()"
   ]
  },
  {
   "cell_type": "code",
   "execution_count": null,
   "metadata": {},
   "outputs": [],
   "source": [
    "plt.figure(5)\n",
    "plt.plot(x3,Wal21,label=r'$\\lambda$ = 0.25')\n",
    "plt.plot(x3,Wal22,label=r'$\\lambda$ = 0.5')\n",
    "plt.plot(x3,Wal23,label=r'$\\lambda$ = 1')\n",
    "plt.plot(x3,Wal24,label=r'$\\lambda$ = 5')\n",
    "plt.title('wald distribution (eta=5)')\n",
    "plt.xlabel('x')\n",
    "plt.ylabel('wald(x) density')\n",
    "plt.legend()\n",
    "plt.show()"
   ]
  }
 ],
 "metadata": {
  "kernelspec": {
   "display_name": "Python 3",
   "language": "python",
   "name": "python3"
  },
  "language_info": {
   "codemirror_mode": {
    "name": "ipython",
    "version": 3
   },
   "file_extension": ".py",
   "mimetype": "text/x-python",
   "name": "python",
   "nbconvert_exporter": "python",
   "pygments_lexer": "ipython3",
   "version": "3.7.3"
  }
 },
 "nbformat": 4,
 "nbformat_minor": 2
}
